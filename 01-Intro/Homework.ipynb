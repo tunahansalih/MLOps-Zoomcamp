{
 "cells": [
  {
   "cell_type": "code",
   "execution_count": 1,
   "id": "6ca79112",
   "metadata": {},
   "outputs": [],
   "source": [
    "import pandas as pd\n",
    "\n",
    "from sklearn.feature_extraction import DictVectorizer\n",
    "from sklearn.linear_model import LinearRegression\n",
    "from sklearn.metrics import mean_squared_error"
   ]
  },
  {
   "cell_type": "code",
   "execution_count": 3,
   "id": "80393fdc",
   "metadata": {},
   "outputs": [
    {
     "name": "stdout",
     "output_type": "stream",
     "text": [
      "File ‘fhv_tripdata_2021-01.parquet’ already there; not retrieving.\n",
      "\n",
      "File ‘fhv_tripdata_2021-02.parquet’ already there; not retrieving.\n",
      "\n"
     ]
    }
   ],
   "source": [
    "!wget -nc https://nyc-tlc.s3.amazonaws.com/trip+data/fhv_tripdata_2021-01.parquet\n",
    "!wget -nc https://nyc-tlc.s3.amazonaws.com/trip+data/fhv_tripdata_2021-02.parquet"
   ]
  },
  {
   "cell_type": "code",
   "execution_count": 4,
   "id": "14e0efd3",
   "metadata": {},
   "outputs": [
    {
     "name": "stdout",
     "output_type": "stream",
     "text": [
      "# of Records 1154112\n"
     ]
    }
   ],
   "source": [
    "#Read the data for January. How many records are there?\n",
    "parquet_path = \"data/fhv_tripdata_2021-01.parquet\"\n",
    "df = pd.read_parquet(parquet_path)\n",
    "print(f\"# of Records {len(df)}\")"
   ]
  },
  {
   "cell_type": "code",
   "execution_count": 5,
   "id": "5ba853ea",
   "metadata": {},
   "outputs": [
    {
     "name": "stdout",
     "output_type": "stream",
     "text": [
      "average trip duration in January 19.17 secs\n"
     ]
    }
   ],
   "source": [
    "#What's the average trip duration in January?\n",
    "\n",
    "df[\"duration\"] = df.dropOff_datetime - df.pickup_datetime\n",
    "df.duration = df.duration.apply(lambda d: d.total_seconds() / 60)\n",
    "print(f\"Average trip duration in January is {df.duration.mean():.2f} secs\")"
   ]
  },
  {
   "cell_type": "code",
   "execution_count": 6,
   "id": "81dace74",
   "metadata": {},
   "outputs": [],
   "source": [
    "df = df[(df.duration >= 1) & (df.duration <= 60)]"
   ]
  },
  {
   "cell_type": "code",
   "execution_count": 7,
   "id": "e8883a39",
   "metadata": {},
   "outputs": [
    {
     "name": "stdout",
     "output_type": "stream",
     "text": [
      "Missing Values %83.53\n"
     ]
    }
   ],
   "source": [
    "\"\"\"\n",
    "The features we'll use for our model are the pickup and dropoff location IDs. \n",
    "But they have a lot of missing values there. Let's replace them with \"-1\".\n",
    "What's the fractions of missing values for the pickup location ID? I.e. fraction of \"-1\"s after you filled the NAs.\n",
    "\"\"\"\n",
    "\n",
    "print(f\"Missing Values: %{df.PUlocationID.isna().sum() / len(df) * 100:.2f}\")\n",
    "df.PUlocationID = df.PUlocationID.fillna(-1)\n",
    "df.DOlocationID = df.DOlocationID.fillna(-1)"
   ]
  },
  {
   "cell_type": "code",
   "execution_count": 8,
   "id": "6121df81",
   "metadata": {},
   "outputs": [],
   "source": [
    "features_df = df.loc[:,[\"PUlocationID\", \"DOlocationID\"]]\n",
    "features_df.PUlocationID = features_df.PUlocationID.astype(\"string\")\n",
    "features_df.DOlocationID = features_df.DOlocationID.astype(\"string\")\n",
    "\n",
    "labels_df = df.loc[:,[\"duration\"]]\n",
    "train_y = labels_df.values"
   ]
  },
  {
   "cell_type": "code",
   "execution_count": 9,
   "id": "653d554f",
   "metadata": {},
   "outputs": [
    {
     "name": "stdout",
     "output_type": "stream",
     "text": [
      "Dimensionality after OHE: 525\n"
     ]
    }
   ],
   "source": [
    "#Dimensionality after OHE\n",
    "dv = DictVectorizer()\n",
    "features_dict = features_df.to_dict(orient='records')\n",
    "\n",
    "train_X = dv.fit_transform(features_dict)\n",
    "print(f\"Dimensionality after OHE: {train_X.shape[1]}\")"
   ]
  },
  {
   "cell_type": "code",
   "execution_count": 10,
   "id": "f23990e3",
   "metadata": {},
   "outputs": [
    {
     "name": "stdout",
     "output_type": "stream",
     "text": [
      "RMSE Train: 10.53\n",
      "RMSE Test: 11.01\n"
     ]
    }
   ],
   "source": [
    "train_parquet_path = \"fhv_tripdata_2021-01.parquet\"\n",
    "test_parquet_path = \"fhv_tripdata_2021-02.parquet\"\n",
    "\n",
    "def get_features_df(parquet_path):\n",
    "    df = pd.read_parquet(parquet_path)\n",
    "    df[\"duration\"] = df.dropOff_datetime - df.pickup_datetime\n",
    "    df.duration = df.duration.apply(lambda d: d.total_seconds() / 60)\n",
    "    df = df[(df.duration >= 1) & (df.duration <= 60)]\n",
    "    df.PUlocationID = df.PUlocationID.fillna(-1)\n",
    "    df.DOlocationID = df.DOlocationID.fillna(-1)\n",
    "    features_df = df.loc[:,[\"PUlocationID\", \"DOlocationID\"]]\n",
    "    features_df.PUlocationID = features_df.PUlocationID.astype(\"string\")\n",
    "    features_df.DOlocationID = features_df.DOlocationID.astype(\"string\")\n",
    "    \n",
    "    labels_df = df.loc[:,[\"duration\"]]\n",
    "    \n",
    "    return features_df, labels_df\n",
    "    \n",
    "train_features_df, train_labels_df = get_features_df(train_parquet_path)\n",
    "test_features_df, test_labels_df = get_features_df(test_parquet_path)\n",
    "\n",
    "train_features_dict = train_features_df.to_dict(orient='records')\n",
    "test_features_dict = test_features_df.to_dict(orient='records')\n",
    "\n",
    "dv = DictVectorizer()\n",
    "dv.fit(train_features_dict)\n",
    "\n",
    "train_X = dv.transform(train_features_dict)\n",
    "train_y = train_labels_df.values\n",
    "\n",
    "test_X = dv.transform(test_features_dict)\n",
    "test_y = test_labels_df.values\n",
    "  \n",
    "lr = LinearRegression()\n",
    "lr.fit(train_X, train_y)\n",
    "    \n",
    "pred_train_y = lr.predict(train_X)\n",
    "pred_test_y = lr.predict(test_X)\n",
    "\n",
    "rmse_train = mean_squared_error(train_y, pred_train_y, squared=False)\n",
    "print(f\"RMSE Train: {rmse_train:.2f}\")\n",
    "\n",
    "rmse_test = mean_squared_error(test_y, pred_test_y, squared=False)\n",
    "print(f\"RMSE Test: {rmse_test:.2f}\")\n"
   ]
  },
  {
   "cell_type": "code",
   "execution_count": null,
   "id": "302f4364",
   "metadata": {},
   "outputs": [],
   "source": []
  }
 ],
 "metadata": {
  "kernelspec": {
   "display_name": "Python 3 (ipykernel)",
   "language": "python",
   "name": "python3"
  },
  "language_info": {
   "codemirror_mode": {
    "name": "ipython",
    "version": 3
   },
   "file_extension": ".py",
   "mimetype": "text/x-python",
   "name": "python",
   "nbconvert_exporter": "python",
   "pygments_lexer": "ipython3",
   "version": "3.9.12"
  }
 },
 "nbformat": 4,
 "nbformat_minor": 5
}
